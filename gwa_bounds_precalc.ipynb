{
 "cells": [
  {
   "cell_type": "markdown",
   "id": "a29f2063-4c06-44c9-a6eb-070627440fc6",
   "metadata": {},
   "source": [
    "## Notbook for calculating the Global Wind Atlas parts to be downloaded, conforming with the 250.000 km**2 restrictions\n",
    "\n",
    "In Step 1: Shapes are read in, split into equal parts and exported as .shp files. These can be uploded to globalwindatlas.info/. Files should be placed in ROOT + 'data/gwa/'\n",
    "\n",
    "In Step 2: The downloaded GWA.tif rasters for one country are stiched together."
   ]
  },
  {
   "cell_type": "code",
   "execution_count": 1,
   "id": "c7b49a5e-ad50-4c58-8c7e-6536706bf4a4",
   "metadata": {},
   "outputs": [],
   "source": [
    "import math\n",
    "from shapely.geometry import LineString, MultiPolygon, Polygon, box\n",
    "from shapely.ops import split\n",
    "\n",
    "import geopandas as gpd\n",
    "import xarray as xr\n",
    "import rioxarray as rioxr \n",
    "import rasterio as rio\n",
    "\n",
    "from utils import geo, data\n",
    "\n",
    "import cartopy.io.shapereader as shpreader\n",
    "\n",
    "import yaml\n",
    "\n",
    "from rioxarray.merge import merge_arrays"
   ]
  },
  {
   "cell_type": "code",
   "execution_count": 122,
   "id": "142ba2ac-0ebe-4f24-9425-ae5893a3c589",
   "metadata": {},
   "outputs": [],
   "source": [
    "ROOT = 'C:/Users/49176/Uni/Masterthesis/'\n",
    "LUISA = ROOT + 'data/input_geodata/luisa.tif'"
   ]
  },
  {
   "cell_type": "markdown",
   "id": "47ab1bb4-77c5-4b48-a71a-df66c74f0b0f",
   "metadata": {},
   "source": [
    "### 0. Define functions"
   ]
  },
  {
   "cell_type": "code",
   "execution_count": 27,
   "id": "9d1f3903-966b-4d39-b794-9043947e0cbd",
   "metadata": {},
   "outputs": [],
   "source": [
    "def gwa_bounds_prep(country, padding, shape_filter, savepath = ROOT + 'data/country_gwa_bounds/'):\n",
    "    \n",
    "    #construct bbox df with adjusted bounds for full era5 overlap\n",
    "    bounds = country.to_crs(3035).bounds.values[0]\n",
    "    bb = box(bounds[0]-padding, bounds[1]-padding, bounds[2]+padding, bounds[3]+padding)\n",
    "    bb_df = gpd.GeoDataFrame(gpd.GeoSeries(bb), columns=['geometry'], crs = 3035)\n",
    "    bb_df[\"area\"] = bb_df['geometry'].area/ 10**6\n",
    "    \n",
    "    #identify needed parts according to GWA 250000 km**2 limitation\n",
    "    parts = math.ceil(bb_df['area']/250000)\n",
    "    \n",
    "    if parts == 1:\n",
    "        bb_df.to_crs(4326).to_file(savepath + f'{cntry}.shp')\n",
    "        return parts\n",
    "    else:\n",
    "        minx, miny, maxx, maxy = bb.bounds\n",
    "        \n",
    "        parts = parts * 2\n",
    "\n",
    "        dx = (maxx - minx) / parts  # width of a small part\n",
    "\n",
    "        vertical_splitters = [LineString([(minx + i*dx, miny), (minx + i*dx, maxy)]) for i in range(parts)]\n",
    "                      \n",
    "        bb_split = bb\n",
    "        for splitter in vertical_splitters:\n",
    "            bb_split = MultiPolygon(split(bb_split, splitter))\n",
    "                      \n",
    "        for i in range(len(bb_split.geoms)):\n",
    "            sp = savepath + f'{cntry}_part_{str(i+1)}.shp'\n",
    "            gpd.GeoDataFrame([bb_split.geoms[i]], columns=['geometry'], crs = 3035).to_crs(4326).to_file(sp)\n",
    "            \n",
    "        return parts\n",
    "            "
   ]
  },
  {
   "cell_type": "code",
   "execution_count": 16,
   "id": "e8c7b31f-ed1c-4ded-900b-fc4adc71f80c",
   "metadata": {},
   "outputs": [],
   "source": [
    "def gwa_bounds_prep(country, padding, shape_filter, savepath = ROOT + 'data/country_gwa_bounds/'):\n",
    "    \n",
    "    #construct bbox df with adjusted bounds for full era5 overlap\n",
    "    bounds = country.to_crs(3035).bounds.values[0]\n",
    "    bb = box(bounds[0]-padding, bounds[1]-padding, bounds[2]+padding, bounds[3]+padding)\n",
    "    bb_df = gpd.GeoDataFrame(gpd.GeoSeries(bb), columns=['geometry'], crs = 3035)\n",
    "    bb_df[\"area\"] = bb_df['geometry'].area/ 10**6\n",
    "    \n",
    "    #identify needed parts according to GWA 250000 km**2 limitation\n",
    "    parts = math.ceil(bb_df['area']/250000)\n",
    "    \n",
    "    if parts == 1:\n",
    "        bb_df.to_crs(4326).to_file(savepath + f'{cntry}.shp')\n",
    "        return parts\n",
    "    else:\n",
    "        \n",
    "        ny = parts #math.floor(parts/2)\n",
    "        nx = parts # .ceil(parts/2)\n",
    "\n",
    "        minx, miny, maxx, maxy = bb.bounds\n",
    "        dx = (maxx - minx) / nx  # width of a small part\n",
    "        dy = (maxy - miny) / ny  # height of a small part\n",
    "        horizontal_splitters = [LineString([(minx, miny + i*dy), (maxx, miny + i*dy)]) for i in range(ny)]\n",
    "        vertical_splitters = [LineString([(minx + i*dx, miny), (minx + i*dx, maxy)]) for i in range(nx)]\n",
    "        splitters = horizontal_splitters + vertical_splitters\n",
    "        bb_split = bb\n",
    "\n",
    "        for splitter in splitters:\n",
    "            bb_split = MultiPolygon(split(bb_split, splitter))\n",
    "            \n",
    "        for i in range(len(bb_split.geoms)):\n",
    "            sp = savepath + f'{cntry}_part_{str(i+1)}.shp'\n",
    "            gpd.GeoDataFrame([bb_split.geoms[i]], columns=['geometry'], crs = 3035).to_crs(4326).to_file(sp)\n",
    "            \n",
    "        return parts**2\n",
    "            "
   ]
  },
  {
   "cell_type": "markdown",
   "id": "0cad3731-7726-4a83-a8a0-92c9714a8657",
   "metadata": {},
   "source": [
    "### Step 1"
   ]
  },
  {
   "cell_type": "code",
   "execution_count": 17,
   "id": "efc115e5-1231-4570-b92d-4e83c89a7603",
   "metadata": {},
   "outputs": [],
   "source": [
    "with open(\"countrycode.yaml\", 'r') as stream:\n",
    "    countrycode = yaml.safe_load(stream)  \n",
    "    \n",
    "countries = countrycode.keys()"
   ]
  },
  {
   "cell_type": "code",
   "execution_count": 24,
   "id": "8e832183-48bf-48da-8691-02bdc3e4a5ac",
   "metadata": {},
   "outputs": [],
   "source": [
    "part_d = {}\n",
    "\n",
    "for cntry in countries:\n",
    "    country = gpd.read_file(ROOT + f'data/country_shapes/{cntry}.gpkg')\n",
    "    part_d[cntry] =  gwa_bounds_prep(country, padding=30000, shape_filter = LUISA)"
   ]
  },
  {
   "cell_type": "code",
   "execution_count": 25,
   "id": "87089f0c-4296-4ede-b2ef-86479ef00076",
   "metadata": {},
   "outputs": [],
   "source": [
    "# Save shapecount of country\n",
    "part_d2plus = {k:v for k,v in zip(part_d.keys(), part_d.values()) if not v == 1}"
   ]
  },
  {
   "cell_type": "markdown",
   "id": "bfb026a3-2b0d-437c-8579-7b2bb340176f",
   "metadata": {},
   "source": [
    "### Step 2"
   ]
  },
  {
   "cell_type": "code",
   "execution_count": null,
   "id": "e0eda7b5-de0a-493f-a55f-e3f3fe9f3e3c",
   "metadata": {},
   "outputs": [],
   "source": [
    "for cntry in countries:\n",
    "    \n",
    "    ls = []    \n",
    "    folder = os.listdir(ROOT + f'data/gwa/')\n",
    "    country_files = [file for file in folder if cntry.lower() in file]\n",
    "    \n",
    "    print(country_files)\n",
    "    \n",
    "    for i in country_files:\n",
    "    \n",
    "        with rioxr.open_rasterio(ROOT + f'data/gwa/{i}') as f:\n",
    "            gwa = f\n",
    "            f.close()\n",
    "        ls.append(gwa)\n",
    "        \n",
    "    country_gwa = merge_arrays(ls, nodata = 0)\n",
    "    country_gwa.rio.to_raster(ROOT + f'data/gwa/{cntry}_wind-speed_100m.tif', recalc_transform = True)"
   ]
  }
 ],
 "metadata": {
  "kernelspec": {
   "display_name": "Python 3 (ipykernel)",
   "language": "python",
   "name": "python3"
  },
  "language_info": {
   "codemirror_mode": {
    "name": "ipython",
    "version": 3
   },
   "file_extension": ".py",
   "mimetype": "text/x-python",
   "name": "python",
   "nbconvert_exporter": "python",
   "pygments_lexer": "ipython3",
   "version": "3.9.9"
  }
 },
 "nbformat": 4,
 "nbformat_minor": 5
}
