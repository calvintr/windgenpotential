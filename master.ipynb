{
 "cells": [
  {
   "cell_type": "markdown",
   "id": "cbb67bd2-387c-482c-9a92-da9402ffebc5",
   "metadata": {},
   "source": [
    "## 1. Master notebook for output and result computations"
   ]
  },
  {
   "cell_type": "code",
   "execution_count": 1,
   "id": "a6ae9a5d-a2ce-4115-9b0a-5d5017eba493",
   "metadata": {},
   "outputs": [],
   "source": [
    "import os\n",
    "import time\n",
    "import pandas as pd\n",
    "import geopandas as gpd\n",
    "import matplotlib.pyplot as plt; plt.style.use('dark_background')\n",
    "from itertools import product\n",
    "import subprocess\n",
    "import tables\n",
    "import yaml"
   ]
  },
  {
   "cell_type": "code",
   "execution_count": 2,
   "id": "375d0eb4",
   "metadata": {},
   "outputs": [],
   "source": [
    "ROOT = 'C:/Users/49176/Uni/Masterthesis/' \n",
    "\n",
    "# Path to local Anaconda prompt for subprocesses. Might require tweaking if another IDE is used.\n",
    "# Main functionality that needs to be provided is starting a python script in a subprocess in\n",
    "# a designated envrionment with arguments.\n",
    "PYTHON_DIST = r'C:\\Users\\49176\\anaconda3\\Scripts\\activate.bat'"
   ]
  },
  {
   "cell_type": "code",
   "execution_count": 3,
   "id": "45c88f0b-65d5-46c5-a3bf-c57922926eb4",
   "metadata": {},
   "outputs": [],
   "source": [
    "with open(\"countrycode.yaml\", 'r') as stream:\n",
    "    countrycode = yaml.safe_load(stream)  \n",
    "    \n",
    "countries = countrycode.keys()"
   ]
  },
  {
   "cell_type": "code",
   "execution_count": 4,
   "id": "1209f76f",
   "metadata": {},
   "outputs": [],
   "source": [
    "countries = list(countries)\n",
    "scenarios = ['base']\n",
    "urban_distances = ['1000','800','600', '400']\n",
    "slopes = ['30', '15']\n",
    "forest_shares = ['10','5', '0']\n",
    "lpa_shares = ['10','5','0']\n",
    "turbines = [('Vestas_V90_3MW', 'Vestas_V112_3MW'),('W2E_151_4800kW', 'W2E_165_5200kW')]"
   ]
  },
  {
   "cell_type": "code",
   "execution_count": 5,
   "id": "ee4325e2",
   "metadata": {},
   "outputs": [],
   "source": [
    "# Load functions to manage results and caluclations\n",
    "\n",
    "def concat_turbine_tuple(turbine):\n",
    "    \n",
    "    if type(turbine) == tuple: \n",
    "        turbine_string = f'{turbine[0]}-{turbine[1]}'\n",
    "    else:\n",
    "        turbine_string = turbine\n",
    "\n",
    "    return turbine_string\n",
    "\n",
    "def access_hd5_keys(path):\n",
    "    \n",
    "    store = pd.HDFStore(path)\n",
    "    keys = store.keys()\n",
    "    store.close()\n",
    "    \n",
    "    return keys\n",
    "\n",
    "class results_manager():\n",
    "\n",
    "    def __init__(self, ROOT, countries, scenarios, urban_distances, slopes, forest_shares, lpa_shares, turbines): \n",
    "        \n",
    "        self.ROOT = ROOT\n",
    "        \n",
    "        self.countries = countries\n",
    "        self.scenarios = scenarios\n",
    "        self.urban_distances = urban_distances\n",
    "        self.slopes = slopes\n",
    "        self.forest_shares = forest_shares\n",
    "        self.lpa_shares = lpa_shares\n",
    "        self.turbines = turbines\n",
    "        self.combinations = len(countries)  * len(scenarios) * len(urban_distances) * len(slopes) * len(forest_shares) * len(lpa_shares) * len(turbines)\n",
    "        \n",
    "        \n",
    "        # Check if preliminaries files exist\n",
    "        \n",
    "        # No reason to compute 0 forest/lpa share, but important in final result perception\n",
    "        forest_shares_adj = [i for i in forest_shares if i != '0']\n",
    "        lpa_shares_adj = [i for i in lpa_shares if i != '0']\n",
    "       \n",
    "        pre = {}       \n",
    "        pre['country_shapes'] = {country : os.path.isfile(ROOT + f'data/country_shapes/{country}.gpkg') for country in countries}\n",
    "        pre['landuse_pa'] = {country : os.path.isfile(ROOT + f'data/country_pa/{country}.gpkg') for country in countries}\n",
    "        pre['landuse_slope'] = {f'{country}-{slope}' : os.path.isfile(ROOT + f'data/country_slope/{country}-{slope}.tif') for country,slope in product(countries, slopes)}\n",
    "        pre['landuse_forest'] = {f'{country}-{scenario}-{urban_distance}-{slope}-{forest_share}' : os.path.isfile(ROOT + f'data/country_share_forest/{country}-{scenario}-{urban_distance}-{slope}-{forest_share}.tif') for country, scenario, urban_distance,slope,forest_share in product(countries, scenarios, urban_distances, slopes, forest_shares_adj)}\n",
    "        pre['landuse_lpa'] = {f'{country}-{scenario}-{urban_distance}-{slope}-{lpa_share}' : os.path.isfile(ROOT + f'data/country_share_lpa/{country}-{scenario}-{urban_distance}-{slope}-{lpa_share}.tif') for country, scenario, urban_distance,slope,lpa_share in product(countries, scenarios, urban_distances, slopes, lpa_shares_adj)}\n",
    "        pre['landuse_availability'] = {f'{country}-{scenario}-{urban_distance}-{slope}-{forest_share}-{lpa_share}' : os.path.isfile(ROOT + f'data/country_landuse_results/{country}-{scenario}-{urban_distance}-{slope}-{forest_share}-{lpa_share}.tif') for country,scenario,urban_distance,slope,forest_share,lpa_share in product(countries,scenarios,urban_distances,slopes,forest_shares,lpa_shares)}\n",
    "        pre['era5_azimuth'] = {country : os.path.isfile(ROOT + f'data/country_azimuth/{country}-burned-azimuth.tif') for country in countries}\n",
    "        pre['era5_turbine'] = {f'{country}-{turbine[0]}-{turbine[1]}' : os.path.isfile(ROOT + f'data/country_turbine_decision/{country}-{turbine[0]}-{turbine[1]}-burned-decision.tif') for country,turbine in product(countries, [turbine_tuples for turbine_tuples in turbines if isinstance(turbine_tuples, tuple)])}\n",
    "        pre['turbine_placement'] = {f'{country}-{scenario}-{urban_distance}-{slope}-{forest_share}-{lpa_share}-{concat_turbine_tuple(turbine)}' : os.path.isfile(ROOT + f'data/country_turbine_placements/{country}-{scenario}-{urban_distance}-{slope}-{forest_share}-{lpa_share}-{concat_turbine_tuple(turbine)}.gpkg') for country,scenario,urban_distance,slope,forest_share,lpa_share,turbine in product(countries,scenarios,urban_distances,slopes,forest_shares,lpa_shares,turbines)}        \n",
    "        \n",
    "        self.pre = pre\n",
    "        self.pre_true = {k:[k for k,v in self.pre[k].items() if v == True] for k in self.pre.keys()}\n",
    "        self.pre_false = {k:[k for k,v in self.pre[k].items() if v == False] for k in self.pre.keys()}\n",
    "        \n",
    "        \n",
    "        # Check if results exist      \n",
    "        self.res_exist =  {country:[v.replace('/','') for v in access_hd5_keys(f'{ROOT}/data/country_generation_potential/{country}.h5')] for country in countries}\n",
    "        self.res = {country:{f'{scenario}-{urban_distance}-{slope}-{forest_share}-{lpa_share}-{concat_turbine_tuple(turbine)}': f'{scenario}-{urban_distance}-{slope}-{forest_share}-{lpa_share}-{concat_turbine_tuple(turbine)}' in self.res_exist[country] for scenario,urban_distance,slope,forest_share,lpa_share,turbine in product(scenarios,urban_distances,slopes,forest_shares,lpa_shares,turbines)} for country in countries}\n",
    "        self.res_true = {k:[k for k,v in self.res[k].items() if v == True] for k in self.res.keys()}\n",
    "        self.res_false = {k:[k for k,v in self.res[k].items() if v == False] for k in self.res.keys()}\n",
    "        \n",
    "    def compute_prelims(self, arglist):\n",
    "    \n",
    "        activate_env= ['call', PYTHON_DIST, 'activate', 'atlite', '&&', 'python'] \n",
    "        \n",
    "        combs = [product([k],[l.split('-') for l in v]) for k,v in arglist.items()]\n",
    "        combs_list = [list(item) for sublist in combs for item in sublist]\n",
    "        \n",
    "        for module, args in combs_list:\n",
    "            \n",
    "            print('Running Module:', module, 'with args:', args)\n",
    "            program_starts = time.time()\n",
    "        \n",
    "            run_script = [fr'{ROOT}windgenpotential/{module}.py', ROOT,  *args]\n",
    "\n",
    "            p = subprocess.Popen(activate_env+run_script, \n",
    "                                 stdout=subprocess.PIPE, stderr=subprocess.PIPE, shell=True)\n",
    "                      \n",
    "            out, err = p.communicate() \n",
    "            rc = p.returncode\n",
    "                  \n",
    "            if rc != 0:\n",
    "                print('error code:', rc, ',', out, ',', err)\n",
    "                break\n",
    "            \n",
    "            now = time.time()\n",
    "            print(\"Computation time: {0} minutes \\n\".format(round((now - program_starts)/60),2))\n",
    "                \n",
    "    def compute_gen_potential(self, arglist):\n",
    "        \n",
    "        activate_env= ['call', PYTHON_DIST, 'activate', 'atlite', '&&', 'python']\n",
    "        \n",
    "        combs = [product([k],[l.split('-') for l in v]) for k,v in arglist.items()]\n",
    "        combs_list = [list(item) for sublist in combs for item in sublist]\n",
    "        \n",
    "        for country, args in combs_list:\n",
    "            \n",
    "            print('Computing results for:', country, 'with args:', args)\n",
    "            \n",
    "            program_starts = time.time()\n",
    "        \n",
    "            run_script = [fr'{ROOT}windgenpotential/potential_calculation.py', ROOT, country, *args]\n",
    "\n",
    "            p = subprocess.Popen(activate_env+run_script, \n",
    "                                 stdout=subprocess.PIPE, stderr=subprocess.PIPE, shell=True)\n",
    "                      \n",
    "            out, err = p.communicate() \n",
    "            rc = p.returncode\n",
    "                  \n",
    "            if rc == 0:\n",
    "                print('successfull')\n",
    "            else:\n",
    "                print('error code:', rc, ',', out.decode('UTF-8'), ',', err.decode('UTF-8'))\n",
    "                break\n",
    "                \n",
    "            now = time.time()\n",
    "            \n",
    "            print(\"Computation time: {0} minutes \\n\".format(round((now - program_starts)/60),2))\n",
    "        \n",
    "        "
   ]
  },
  {
   "cell_type": "code",
   "execution_count": 6,
   "id": "3c5c14e5-bab7-4381-98b9-a81d76ddf538",
   "metadata": {},
   "outputs": [],
   "source": [
    "# Initialize result manager\n",
    "go = results_manager(ROOT, countries, scenarios, urban_distances, slopes, forest_shares, lpa_shares, turbines)"
   ]
  },
  {
   "cell_type": "code",
   "execution_count": 7,
   "id": "3ad7117c",
   "metadata": {},
   "outputs": [
    {
     "data": {
      "text/plain": [
       "5184"
      ]
     },
     "execution_count": 7,
     "metadata": {},
     "output_type": "execute_result"
    }
   ],
   "source": [
    "# Total number of scenarios to be calculated\n",
    "go.combinations"
   ]
  },
  {
   "cell_type": "code",
   "execution_count": 8,
   "id": "534cad14",
   "metadata": {},
   "outputs": [
    {
     "data": {
      "text/plain": [
       "{'country_shapes': [],\n",
       " 'landuse_pa': [],\n",
       " 'landuse_slope': [],\n",
       " 'landuse_forest': [],\n",
       " 'landuse_lpa': [],\n",
       " 'landuse_availability': [],\n",
       " 'era5_azimuth': [],\n",
       " 'era5_turbine': [],\n",
       " 'turbine_placement': []}"
      ]
     },
     "execution_count": 8,
     "metadata": {},
     "output_type": "execute_result"
    }
   ],
   "source": [
    "# Dictionary of missing preliminary results\n",
    "d = go.pre_false\n",
    "d"
   ]
  },
  {
   "cell_type": "code",
   "execution_count": 34,
   "id": "d563a554-f68d-4864-9dd3-f76577590666",
   "metadata": {},
   "outputs": [
    {
     "name": "stdout",
     "output_type": "stream",
     "text": [
      "CPU times: total: 0 ns\n",
      "Wall time: 498 µs\n"
     ]
    }
   ],
   "source": [
    "# Compute missing preliminary results\n",
    "%%time\n",
    "go.compute_prelims(d)"
   ]
  },
  {
   "cell_type": "code",
   "execution_count": 9,
   "id": "c6524362-b7c1-46a0-bad7-ea173baac837",
   "metadata": {},
   "outputs": [
    {
     "data": {
      "text/plain": [
       "{'Albania': [],\n",
       " 'Austria': [],\n",
       " 'Belgium': [],\n",
       " 'Bosnia and Herzegovina': [],\n",
       " 'Bulgaria': [],\n",
       " 'Croatia': [],\n",
       " 'Cyprus': [],\n",
       " 'Czech Republic': [],\n",
       " 'Denmark': [],\n",
       " 'Estonia': [],\n",
       " 'Finland': [],\n",
       " 'France': [],\n",
       " 'Germany': [],\n",
       " 'Greece': [],\n",
       " 'Hungary': [],\n",
       " 'Iceland': [],\n",
       " 'Ireland': [],\n",
       " 'Italy': [],\n",
       " 'Latvia': [],\n",
       " 'Lithuania': [],\n",
       " 'Luxembourg': [],\n",
       " 'Malta': [],\n",
       " 'Montenegro': [],\n",
       " 'Netherlands': [],\n",
       " 'Norway': [],\n",
       " 'Poland': [],\n",
       " 'Portugal': [],\n",
       " 'North Macedonia': [],\n",
       " 'Romania': [],\n",
       " 'Serbia': [],\n",
       " 'Slovakia': [],\n",
       " 'Slovenia': [],\n",
       " 'Spain': [],\n",
       " 'Sweden': [],\n",
       " 'Switzerland': [],\n",
       " 'United Kingdom': []}"
      ]
     },
     "execution_count": 9,
     "metadata": {},
     "output_type": "execute_result"
    }
   ],
   "source": [
    "# Dictionary of missing final results\n",
    "d = go.res_false\n",
    "d"
   ]
  },
  {
   "cell_type": "code",
   "execution_count": 10,
   "id": "f7c5365f",
   "metadata": {},
   "outputs": [],
   "source": [
    "# Compute missing final results\n",
    "go.compute_gen_potential(go.res_false)"
   ]
  }
 ],
 "metadata": {
  "kernelspec": {
   "display_name": "Python 3 (ipykernel)",
   "language": "python",
   "name": "python3"
  },
  "language_info": {
   "codemirror_mode": {
    "name": "ipython",
    "version": 3
   },
   "file_extension": ".py",
   "mimetype": "text/x-python",
   "name": "python",
   "nbconvert_exporter": "python",
   "pygments_lexer": "ipython3",
   "version": "3.9.9"
  }
 },
 "nbformat": 4,
 "nbformat_minor": 5
}
