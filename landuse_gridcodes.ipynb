{
 "cells": [
  {
   "cell_type": "code",
   "execution_count": null,
   "id": "8fbe28dc-2927-4cee-a971-49accb0c3dd5",
   "metadata": {},
   "outputs": [],
   "source": [
    "import pandas as pd "
   ]
  },
  {
   "cell_type": "code",
   "execution_count": null,
   "id": "a6620445-d38c-4880-b681-91784d9fdfc6",
   "metadata": {},
   "outputs": [],
   "source": [
    "ROOT = 'C:/CaT/Masterthesis/repository/' "
   ]
  },
  {
   "cell_type": "code",
   "execution_count": null,
   "id": "16c9cfca-8a08-4745-b9d0-be6f339be761",
   "metadata": {},
   "outputs": [],
   "source": [
    "# Excel with necessary information on the shapes luisa / corine cover, as well as the gridcodes\n",
    "gc_excel = pd.read_excel(ROOT + 'data/gridcode_dict.xlsx', sheet_name = 'py_dict_format', \n",
    "                         converters = {'in_gc_luisa' : int, 'in_gc_corine' : int, 'ex_gc_luisa' : int, 'ex_gc_corine': int})\n",
    "\n",
    "gridcodes = {\n",
    "    'inclusion' : \n",
    "    {\n",
    "        'luisa' : dict(zip(gc_excel['in_gc_type'], gc_excel['in_gc_luisa'])),\n",
    "        'corine' : dict(zip(gc_excel['in_gc_type'], gc_excel['in_gc_corine']))\n",
    "    },\n",
    "    'exclusion' :\n",
    "    {\n",
    "        'luisa' : dict(zip(gc_excel['ex_gc_type_luisa'].dropna(), gc_excel['ex_gc_luisa'].dropna())),\n",
    "        'corine' : dict(zip(gc_excel['ex_gc_type_corine'].dropna(), gc_excel['ex_gc_corine'].dropna()))\n",
    "    }\n",
    "}"
   ]
  },
  {
   "cell_type": "markdown",
   "id": "e4ab256f-a209-45e3-b860-debd93330ffb",
   "metadata": {},
   "source": [
    "### 1. Base Scenario"
   ]
  },
  {
   "cell_type": "code",
   "execution_count": null,
   "id": "2c3c256e-26f3-4df8-84ee-d4848172bc7e",
   "metadata": {},
   "outputs": [],
   "source": [
    "forest = {'Broad-leaved forest', 'Coniferous forest', 'Mixed forest'}\n",
    "special =  {'Road and rail networks and associated land', 'Airport areas', 'Airport terminals'}\n",
    "\n",
    "gc_inclusion_luisa_noforest = {x: gridcodes['inclusion']['luisa'][x] for x in gridcodes['inclusion']['luisa'] if x not in forest}\n",
    "#list(gc_inclusion_luisa_noforest.values())\n",
    "print('Inclusion: ', list(gc_inclusion_luisa_noforest.values()))"
   ]
  },
  {
   "cell_type": "code",
   "execution_count": null,
   "id": "88cee28c-e1a3-4799-beba-86ff47b4e58f",
   "metadata": {},
   "outputs": [],
   "source": [
    "gc_exclusion_luisa_nospecial = {x: gridcodes['exclusion']['luisa'][x] for x in gridcodes['exclusion']['luisa'] if x not in special}\n",
    "print('1000m buffer: ', list(gc_exclusion_luisa_nospecial.values()))"
   ]
  },
  {
   "cell_type": "code",
   "execution_count": null,
   "id": "3f98b774-a4af-4da3-b275-b0a6929d13b9",
   "metadata": {},
   "outputs": [],
   "source": [
    "# 30 m buffer\n",
    "print('30m buffer: ',gridcodes['exclusion']['luisa']['Road and rail networks and associated land'])"
   ]
  },
  {
   "cell_type": "code",
   "execution_count": null,
   "id": "d354cb99-1dc8-4641-bd7b-d4c6d8f28629",
   "metadata": {},
   "outputs": [],
   "source": [
    "# 3750 m buffer\n",
    "print('3075m buffer: ',[gridcodes['exclusion']['luisa']['Airport areas'], gridcodes['exclusion']['luisa']['Airport terminals']])"
   ]
  },
  {
   "cell_type": "code",
   "execution_count": null,
   "id": "b7c21904-0b26-46e5-8e0e-9fe21cea43c7",
   "metadata": {},
   "outputs": [],
   "source": [
    "# forest \n",
    "print('forest: ', [gridcodes['inclusion']['luisa'][x] for x in forest])"
   ]
  }
 ],
 "metadata": {
  "kernelspec": {
   "display_name": "Python 3 (ipykernel)",
   "language": "python",
   "name": "python3"
  },
  "language_info": {
   "codemirror_mode": {
    "name": "ipython",
    "version": 3
   },
   "file_extension": ".py",
   "mimetype": "text/x-python",
   "name": "python",
   "nbconvert_exporter": "python",
   "pygments_lexer": "ipython3",
   "version": "3.9.9"
  }
 },
 "nbformat": 4,
 "nbformat_minor": 5
}
