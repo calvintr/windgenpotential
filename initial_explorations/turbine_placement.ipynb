{
 "cells": [
  {
   "cell_type": "code",
   "execution_count": null,
   "id": "ff47ca8e-306d-43f2-ae9d-872289bb7573",
   "metadata": {},
   "outputs": [],
   "source": [
    "import atlite\n",
    "import xarray as xr\n",
    "import rasterio as rio\n",
    "import pandas as pd\n",
    "import numpy as np\n",
    "import geopandas as gpd\n",
    "import shapely\n",
    "import matplotlib.pyplot as plt\n",
    "from matplotlib.gridspec import GridSpec\n",
    "plt.style.use('dark_background')\n",
    "\n",
    "from rasterio.plot import show\n",
    "from atlite.gis import shape_availability, ExclusionContainer\n",
    "\n",
    "from exp_utils import wgp_functions\n",
    "\n",
    "plt.rcParams['figure.figsize'] = [8, 8]\n",
    "\n",
    "###### Packages for turbine placement: \n",
    "\n",
    "from skimage import draw, morphology\n",
    "from scipy.ndimage import binary_dilation as dilation\n",
    "import math\n"
   ]
  },
  {
   "cell_type": "markdown",
   "id": "d825574f-ef2a-46dd-908a-646448778702",
   "metadata": {},
   "source": [
    "### 1. Set-up of initial landuse availability matrix"
   ]
  },
  {
   "cell_type": "code",
   "execution_count": null,
   "id": "e1a4aefb-f0ad-4fee-be69-68e3cca55007",
   "metadata": {},
   "outputs": [],
   "source": [
    "# Excel with necessary information on the shapes luisa / corine cover, as well as the gridcodes\n",
    "gc_excel = pd.read_excel('./gridcode_dict.xlsx', sheet_name = 'py_dict_format', \n",
    "                         converters = {'in_gc_luisa' : int, 'in_gc_corine' : int, 'ex_gc_luisa' : int, 'ex_gc_corine': int})\n",
    "\n",
    "# set up country shapes \n",
    "raster = rio.open('C:/CaT/Masterthesis/data/corine.tif')\n",
    "world = gpd.read_file(gpd.datasets.get_path('naturalearth_lowres'))\n",
    "\n",
    "shapes = wgp_functions.tif_bb_filter(raster = raster, shapes = world, output_crs = 'shapes')\n",
    "\n",
    "# There are no shapes for Liechtenstein & Malta in the gpd library. Turkey and Iceland are excluded as they are not in focus of the analysis \n",
    "shapes = shapes[shapes['name'].isin(list(gc_excel['countries']))]\n",
    "shapes.set_index('name', inplace=True)\n",
    "shapes.drop(['Iceland', 'Turkey'], inplace = True)\n",
    "\n",
    "shapes.plot()\n",
    "\n",
    "# set up gridcode dictionary. see ./gridcodes.xlsx for further reference\n",
    "gridcodes = {\n",
    "    'inclusion' : \n",
    "    {\n",
    "        'luisa' : dict(zip(gc_excel['in_gc_type'], gc_excel['in_gc_luisa'])),\n",
    "        'corine' : dict(zip(gc_excel['in_gc_type'], gc_excel['in_gc_corine']))\n",
    "    },\n",
    "    'exclusion' :\n",
    "    {\n",
    "        'luisa' : dict(zip(gc_excel['ex_gc_type_luisa'].dropna(), gc_excel['ex_gc_luisa'].dropna())),\n",
    "        'corine' : dict(zip(gc_excel['ex_gc_type_corine'].dropna(), gc_excel['ex_gc_corine'].dropna()))\n",
    "    }\n",
    "}\n",
    "\n",
    "\n",
    "LUISA = 'C:/CaT/Masterthesis/data/luisa.tif'\n",
    "CORINE = 'C:/CaT/Masterthesis/data/corine.tif'"
   ]
  },
  {
   "cell_type": "code",
   "execution_count": null,
   "id": "cd67b623-2cd5-487e-8ee0-a69a81aadf7d",
   "metadata": {},
   "outputs": [],
   "source": [
    "cntry = 'Luxembourg'\n",
    "\n",
    "# set up raster\n",
    "exc_corine = ExclusionContainer(res=100)\n",
    "exc_corine.add_raster(CORINE, codes = list(gridcodes['inclusion']['corine'].values()), crs=3035, invert=True)\n",
    "exc_corine.add_raster(CORINE, codes = list(gridcodes['exclusion']['corine'].values()), crs=3035,  buffer=1000)\n",
    "\n",
    "# pick a country\n",
    "country = shapes.loc[[cntry]].geometry.to_crs(exc_corine.crs)\n",
    "\n",
    "# get availibility mask and transformation affine \n",
    "masked_c, transform_c = shape_availability(country, exc_corine)\n",
    "eligible_share_c = masked_c.sum().astype(float) * exc_corine.res**2 / country.geometry.item().area\n",
    "\n",
    "#Save mask as geotiff\n",
    "#write_geotiff(f'./{cntry}.tif', mask = masked_c, trans = transform_c) \n",
    "\n",
    "# plot\n",
    "fig, ax = plt.subplots()\n",
    "ax = show(masked_c, transform=transform_c, cmap='Greens', ax=ax)\n",
    "country.plot(ax=ax, edgecolor='k', color='None')\n",
    "ax.set_title(f'CORINE Data: Eligible area (green) {eligible_share_c * 100:2.2f}%');"
   ]
  },
  {
   "cell_type": "markdown",
   "id": "84a53ea6-54d6-4481-8b4f-ebffbb11d27d",
   "metadata": {},
   "source": [
    "### 2. Initial elipse testing and manual one-iteration turbine placement"
   ]
  },
  {
   "cell_type": "code",
   "execution_count": null,
   "id": "32bcf61f-5c4b-434e-ac35-965c8eeb1fde",
   "metadata": {},
   "outputs": [],
   "source": [
    "# How to draw an elipsis\n",
    "rotor = 1\n",
    "\n",
    "img = np.zeros((100, 100), 'uint8')\n",
    "\n",
    "rr, cc = draw.ellipse(50, 50, 20 , 10 , img.shape, rotation = 0)#math.pi/-1.1)\n",
    "img[rr,cc] = 1\n",
    "\n",
    "show(img)"
   ]
  },
  {
   "cell_type": "code",
   "execution_count": null,
   "id": "f801f832-4fd4-403d-ae8e-cd84c4613bc8",
   "metadata": {},
   "outputs": [],
   "source": [
    "# Initial landuse availability matrix\n",
    "masked_c.shape"
   ]
  },
  {
   "cell_type": "code",
   "execution_count": null,
   "id": "77370175-4b15-47ba-9008-b77307900d19",
   "metadata": {},
   "outputs": [],
   "source": [
    "# Two further dimensions, one which will capture the turbine centers and one which captures the blocked area by the eilipse\n",
    "\n",
    "turbine_av = ~np.zeros(shape = masked_c.shape, dtype = bool)\n",
    "turbine_spot = np.zeros(shape = masked_c.shape, dtype = bool) \n",
    "\n",
    "mask = np.stack((masked_c, turbine_av, turbine_spot))\n",
    "\n",
    "mask.shape"
   ]
  },
  {
   "cell_type": "code",
   "execution_count": null,
   "id": "81972ff3-4a06-4ddd-b84d-9da4d277e368",
   "metadata": {},
   "outputs": [],
   "source": [
    "fig, ax = plt.subplots(1,3, figsize = (12,8))\n",
    "\n",
    "show(mask[0, :, :], vmin = 0, vmax = 1, cmap = \"Greens\", ax = ax[0])\n",
    "show(mask[1, :, :], vmin = 0, vmax = 1, cmap = \"Greens\", ax = ax[1])\n",
    "show(mask[2, :, :], vmin = 0, vmax = 1, cmap = \"Greens\", ax = ax[2])\n",
    "\n",
    "ax[0].set_title(\"Landuse av.\")\n",
    "ax[1].set_title(\"Turbine area\")\n",
    "ax[2].set_title(\"Turbine center\")"
   ]
  },
  {
   "cell_type": "code",
   "execution_count": null,
   "id": "350adcaa-f4da-4fab-adb3-8fa3d487ced2",
   "metadata": {},
   "outputs": [],
   "source": [
    "# Find the first index from NW (upper left) that is eligible according to landuse availability\n",
    "idx = np.unravel_index(np.argmax(mask[0, :, :], axis=None), mask[0, :, :].shape)\n",
    "idx"
   ]
  },
  {
   "cell_type": "code",
   "execution_count": null,
   "id": "6de9ae05-4373-40a0-8c51-a052e79fe87f",
   "metadata": {},
   "outputs": [],
   "source": [
    "#Place a turbine\n",
    "mask[2, idx[0] , idx[1]] = True\n",
    "\n",
    "rotor = 180/50\n",
    "\n",
    "img = ~np.zeros(mask[0, :, :].shape, bool)\n",
    "\n",
    "rr, cc = draw.ellipse(idx[0], idx[1], rotor * 6, rotor * 12, img.shape, rotation = math.pi/-1.1)\n",
    "\n",
    "mask[0, rr,cc] = False\n",
    "mask[1, rr,cc] = False"
   ]
  },
  {
   "cell_type": "code",
   "execution_count": null,
   "id": "f1d9bfe5-20de-4768-903d-7be76e4e4387",
   "metadata": {},
   "outputs": [],
   "source": [
    "fig, ax = plt.subplots(1,3, figsize = (12,8))\n",
    "\n",
    "show(mask[0, :, :], vmin = 0, vmax = 1, cmap = \"Greens\", ax = ax[0])\n",
    "show(mask[1, :, :], vmin = 0, vmax = 1, cmap = \"Greens\", ax = ax[1])\n",
    "show(dilation(mask[2, :, :], iterations = 5), vmin = 0, vmax = 1, cmap = \"Greys\", ax = ax[2])\n",
    "\n",
    "ax[0].set_title(\"Landuse av.\")\n",
    "ax[1].set_title(\"Turbine area\")\n",
    "ax[2].set_title(\"Turbine center\")"
   ]
  },
  {
   "cell_type": "markdown",
   "id": "e9241f78-9a96-4053-889f-7a34fe6e5e64",
   "metadata": {},
   "source": [
    "### 3. Automated sequential turbine placement"
   ]
  },
  {
   "cell_type": "code",
   "execution_count": null,
   "id": "e8c58247-a07c-4fa9-b27f-59e7ebf0efac",
   "metadata": {},
   "outputs": [],
   "source": [
    "%%time\n",
    "\n",
    "turbine_av = ~np.zeros(shape = masked_c.shape, dtype = bool)\n",
    "turbine_spot = np.zeros(shape = masked_c.shape, dtype = bool) \n",
    "\n",
    "mask = np.stack((masked_c, turbine_av, turbine_spot))\n",
    "\n",
    "rotoer = 180/50\n",
    "\n",
    "while mask[0, :, :].max() == 1:\n",
    "\n",
    "    idx = np.unravel_index(np.argmax(mask[0, :, :], axis=None), mask[0, :, :].shape)\n",
    "\n",
    "    mask[2, idx[0] , idx[1]] = True\n",
    "\n",
    "    rr, cc = draw.ellipse(idx[0], idx[1], rotor * 6, rotor * 12, mask[0, :, :].shape , rotation = math.pi/4)\n",
    "\n",
    "    mask[0, rr,cc] = False\n",
    "    mask[1, rr,cc] = False\n",
    "    \n",
    "print(f'Successfully built {mask[2, :, :].sum()} turbines') "
   ]
  },
  {
   "cell_type": "code",
   "execution_count": null,
   "id": "7a24e280-91f2-482d-a00b-93cd12238971",
   "metadata": {},
   "outputs": [],
   "source": [
    "fig, ax = plt.subplots(1,3, figsize = (12,8))\n",
    "\n",
    "show(mask[0, :, :], vmin = 0, vmax = 1, cmap = \"Greens\", ax = ax[0])\n",
    "show(mask[1, :, :], vmin = 0, vmax = 1, cmap = \"Greens\", ax = ax[1])\n",
    "show(dilation(mask[2, :, :], iterations = 5), vmin = 0, vmax = 1, cmap = \"Greys\", ax = ax[2])\n",
    "\n",
    "ax[0].set_title(\"Landuse av.\")\n",
    "ax[1].set_title(\"Turbine occupied area\")\n",
    "ax[2].set_title(\"Turbine center\")"
   ]
  },
  {
   "cell_type": "code",
   "execution_count": null,
   "id": "3c7f952f-5dd2-4e93-a848-aa4a7771ae64",
   "metadata": {},
   "outputs": [],
   "source": [
    "import matplotlib\n",
    "c_transparent = matplotlib.colors.colorConverter.to_rgba('white',alpha = 0)\n",
    "c_red= matplotlib.colors.colorConverter.to_rgba('black',alpha = 1)\n",
    "cmap_tr = matplotlib.colors.LinearSegmentedColormap.from_list('rb_cmap',[c_transparent,c_red],512)\n",
    "\n",
    "fig, ax = plt.subplots()\n",
    "show(mask[1, :, :], vmin = 0, vmax = 1, cmap = \"Greens\", ax=ax)\n",
    "show(dilation(mask[2, :, :], iterations = 5), vmin = 0, vmax = 1, cmap = cmap_tr, ax=ax)\n",
    "ax.set_title(f\"Turbine placements with respective buffer elipse (n={mask[2, :, :].sum()})\")\n",
    "#plt.savefig(\"3placement.png\", bbox_inches = \"tight\", dpi = 200)\n",
    "\n",
    "plt.show()"
   ]
  },
  {
   "cell_type": "markdown",
   "id": "8c3176f5-2aba-4660-b13f-74dcfd180952",
   "metadata": {},
   "source": [
    "### Final function and incorporation of rotation input from wind direction"
   ]
  },
  {
   "cell_type": "code",
   "execution_count": null,
   "id": "58d3d1af-8f4d-4df0-bd68-feda28f0c5be",
   "metadata": {},
   "outputs": [],
   "source": [
    "#Function wrapper\n",
    "\n",
    "def place_turbines(res, landuse_mask, wind_dir, rotor_diam, r_radius_factor, c_radius_factor):    \n",
    "    \n",
    "    total_av = landuse_mask\n",
    "    \n",
    "    if np.isscalar(wind_dir):\n",
    "        wind_matrix = np.full(total_av.shape, wind_dir).astype(int)\n",
    "    else:\n",
    "        wind_matrix = wind_dir\n",
    "    \n",
    "    turbine_av = ~np.zeros(shape = total_av.shape, dtype = bool) \n",
    "    turbine_spot = np.zeros(shape = total_av.shape, dtype = bool) \n",
    "    \n",
    "    mask = np.stack((total_av, turbine_av, turbine_spot))\n",
    "    print(mask.dtype)\n",
    "    \n",
    "    rotor = rotor_diam / res  \n",
    "    \n",
    "    while mask[0, :, :].max() == 1:\n",
    "\n",
    "        idx = np.unravel_index(np.argmax(mask[0, :, :], axis=None), mask[0, :, :].shape)\n",
    "\n",
    "        # Save turbine placement center\n",
    "        mask[2, idx[0] , idx[1]] = True\n",
    "\n",
    "        # Draw elipse based on predominant wind direcition   \n",
    "        rr, cc = draw.ellipse(idx[0], idx[1], rotor * r_radius_factor, rotor * c_radius_factor, mask[0, :, :].shape , \n",
    "                              rotation = math.pi/wind_matrix[idx[0], idx[1]])\n",
    "\n",
    "        mask[0, rr,cc] = False\n",
    "        mask[1, rr,cc] = False\n",
    "    \n",
    "    print(f'Successfully built {mask[2, :, :].sum()} turbines')\n",
    "    \n",
    "    return mask"
   ]
  },
  {
   "cell_type": "code",
   "execution_count": null,
   "id": "13b94c84-e108-4e13-8d21-f0299783b8a0",
   "metadata": {},
   "outputs": [],
   "source": [
    "np.full(masked_c.shape, 4).astype(int)"
   ]
  },
  {
   "cell_type": "code",
   "execution_count": null,
   "id": "be8e3f0f-8e4b-4edb-97e1-a2abe423b123",
   "metadata": {},
   "outputs": [],
   "source": [
    "%%time\n",
    "\n",
    "wind_dir = np.random.randint(-10, 10, masked_c.shape)\n",
    "wind_dir[wind_dir == 0] = 1\n",
    "\n",
    "turbine_mask = place_turbines(res = 50, \n",
    "                              landuse_mask = masked_c,\n",
    "                              wind_dir =  wind_dir,\n",
    "                              rotor_diam = 130,\n",
    "                              r_radius_factor = 6,\n",
    "                              c_radius_factor = 12) "
   ]
  },
  {
   "cell_type": "code",
   "execution_count": null,
   "id": "a290af6b-718c-45cc-adb7-ea1a258d570c",
   "metadata": {},
   "outputs": [],
   "source": [
    "fig, ax = plt.subplots()\n",
    "show(turbine_mask[1, :, :], vmin = 0, vmax = 1, cmap = \"Greens\", ax=ax)\n",
    "show(dilation(turbine_mask[2, :, :], iterations = 5), vmin = 0, vmax = 1, cmap = cmap_tr, ax=ax)\n",
    "ax.set_title(f\"Turbine placements with respective buffer elipse (n={turbine_mask[2, :, :].sum()})\")\n",
    "\n",
    "plt.show()"
   ]
  },
  {
   "cell_type": "markdown",
   "id": "95b05014-e480-45f4-bda2-6b3b60401706",
   "metadata": {},
   "source": [
    "### 4. Computation of wind direction from u and v components of wind"
   ]
  },
  {
   "cell_type": "code",
   "execution_count": null,
   "id": "c322ccee-3ff6-4810-9e14-e56a59a06286",
   "metadata": {},
   "outputs": [],
   "source": [
    "# https://confluence.ecmwf.int/pages/viewpage.action?pageId=133262398"
   ]
  },
  {
   "cell_type": "code",
   "execution_count": null,
   "id": "62bda31d-1cc7-401a-8de6-fddd749118ec",
   "metadata": {},
   "outputs": [],
   "source": []
  }
 ],
 "metadata": {
  "kernelspec": {
   "display_name": "Python 3 (ipykernel)",
   "language": "python",
   "name": "python3"
  },
  "language_info": {
   "codemirror_mode": {
    "name": "ipython",
    "version": 3
   },
   "file_extension": ".py",
   "mimetype": "text/x-python",
   "name": "python",
   "nbconvert_exporter": "python",
   "pygments_lexer": "ipython3",
   "version": "3.9.9"
  }
 },
 "nbformat": 4,
 "nbformat_minor": 5
}
