{
 "cells": [
  {
   "cell_type": "markdown",
   "id": "a29f2063-4c06-44c9-a6eb-070627440fc6",
   "metadata": {},
   "source": [
    "## Notbook for calculating the Global Windatlas parts to be downloaded, conforming with the 250.000 km**2 restrictions"
   ]
  },
  {
   "cell_type": "code",
   "execution_count": 67,
   "id": "c7b49a5e-ad50-4c58-8c7e-6536706bf4a4",
   "metadata": {},
   "outputs": [],
   "source": [
    "import math\n",
    "from shapely.geometry import LineString, MultiPolygon, Polygon, box\n",
    "from shapely.ops import split\n",
    "\n",
    "import geopandas as gpd\n",
    "import xarray as xr\n",
    "import rioxarray as rioxr \n",
    "import rasterio as rio\n",
    "\n",
    "from utils import geo, data\n",
    "\n",
    "import cartopy.io.shapereader as shpreader\n",
    "\n",
    "import yaml\n",
    "\n",
    "from rioxarray.merge import merge_arrays"
   ]
  },
  {
   "cell_type": "code",
   "execution_count": 8,
   "id": "142ba2ac-0ebe-4f24-9425-ae5893a3c589",
   "metadata": {},
   "outputs": [],
   "source": [
    "ROOT = 'C:/CaT/Masterthesis/repository/'\n",
    "LUISA = ROOT + 'data/input_geodata/luisa.tif'"
   ]
  },
  {
   "cell_type": "code",
   "execution_count": 52,
   "id": "9d1f3903-966b-4d39-b794-9043947e0cbd",
   "metadata": {},
   "outputs": [],
   "source": [
    "def gwa_bounds_prep(country, padding, shape_filter, savepath = ROOT + 'data/country_gwa_bounds/'):\n",
    "    \n",
    "    #construct bbox df with adjusted bounds for full era5 overlap\n",
    "    bounds = country.to_crs(3035).bounds.values[0]\n",
    "    bb = box(bounds[0]-padding, bounds[1]-padding, bounds[2]+padding, bounds[3]+padding)\n",
    "    bb_df = gpd.GeoDataFrame(gpd.GeoSeries(bb), columns=['geometry'], crs = 3035)\n",
    "    bb_df[\"area\"] = bb_df['geometry'].area/ 10**6\n",
    "    \n",
    "    #identify needed parts according to GWA 250000 km**2 limitation\n",
    "    parts = math.ceil(bb_df['area']/250000)\n",
    "    \n",
    "    if parts == 1:\n",
    "        bb_df.to_crs(4326).to_file(savepath + f'{cntry}.shp')\n",
    "        return parts\n",
    "    else:\n",
    "        minx, miny, maxx, maxy = bb.bounds\n",
    "\n",
    "        dx = (maxx - minx) / parts # width of a small part\n",
    "\n",
    "        vertical_splitters = [LineString([(minx + i*dx, miny), (minx + i*dx, maxy)]) for i in range(parts)]\n",
    "                      \n",
    "        bb_split = bb\n",
    "        for splitter in vertical_splitters:\n",
    "            bb_split = MultiPolygon(split(bb_split, splitter))\n",
    "                      \n",
    "        for i in range(len(bb_split.geoms)):\n",
    "            sp = savepath + f'{cntry}_part_{str(i+1)}.shp'\n",
    "            gpd.GeoDataFrame([bb_split.geoms[i]], columns=['geometry'], crs = 3035).to_crs(4326).to_file(sp)\n",
    "            \n",
    "        return parts\n",
    "            "
   ]
  },
  {
   "cell_type": "markdown",
   "id": "0cad3731-7726-4a83-a8a0-92c9714a8657",
   "metadata": {},
   "source": [
    "### 1. Bounds part prep"
   ]
  },
  {
   "cell_type": "code",
   "execution_count": 53,
   "id": "efc115e5-1231-4570-b92d-4e83c89a7603",
   "metadata": {},
   "outputs": [],
   "source": [
    "with open(\"countrycode.yaml\", 'r') as stream:\n",
    "    countrycode = yaml.safe_load(stream)  \n",
    "    \n",
    "countries = countrycode.keys()\n",
    "\n",
    "country = gpd.read_file(ROOT + f'data/country_shapes/{cntry}.gpkg')"
   ]
  },
  {
   "cell_type": "code",
   "execution_count": 54,
   "id": "8e832183-48bf-48da-8691-02bdc3e4a5ac",
   "metadata": {},
   "outputs": [],
   "source": [
    "part_d = {}\n",
    "\n",
    "for cntry in countries:\n",
    "    country = gpd.read_file(ROOT + f'data/country_shapes/{cntry}.gpkg')\n",
    "    part_d[cntry] =  gwa_bounds_prep(country, padding=30000, shape_filter = LUISA)"
   ]
  },
  {
   "cell_type": "code",
   "execution_count": 73,
   "id": "87089f0c-4296-4ede-b2ef-86479ef00076",
   "metadata": {},
   "outputs": [
    {
     "data": {
      "text/plain": [
       "[1, 2]"
      ]
     },
     "execution_count": 73,
     "metadata": {},
     "output_type": "execute_result"
    }
   ],
   "source": [
    "part_d2plus = {k:v for k,v in zip(part_d.keys(), part_d.values()) if not v == 1}\n",
    "\n",
    "list(range(1,3))"
   ]
  },
  {
   "cell_type": "markdown",
   "id": "bfb026a3-2b0d-437c-8579-7b2bb340176f",
   "metadata": {},
   "source": [
    "### 2. Stiching together downloaded gwa.tif files"
   ]
  },
  {
   "cell_type": "code",
   "execution_count": 76,
   "id": "e0eda7b5-de0a-493f-a55f-e3f3fe9f3e3c",
   "metadata": {},
   "outputs": [],
   "source": [
    "for cntry in ['Germany']:\n",
    "    ls = []\n",
    "    \n",
    "    for i in range(part_d2plus[cntry]):\n",
    "    \n",
    "        with rioxr.open_rasterio(ROOT + f'data/gwa/{cntry}_part_{i+1}_wind-speed_100m.tif') as f:\n",
    "            gwa = f\n",
    "            f.close()\n",
    "        ls.append(gwa)\n",
    "        \n",
    "    country_gwa = merge_arrays(ls, nodata = 0)\n",
    "    country_gwa.rio.to_raster(ROOT + f'data/gwa/Germany_wind-speed_100m.tif', recalc_transform = True)"
   ]
  }
 ],
 "metadata": {
  "kernelspec": {
   "display_name": "Python 3 (ipykernel)",
   "language": "python",
   "name": "python3"
  },
  "language_info": {
   "codemirror_mode": {
    "name": "ipython",
    "version": 3
   },
   "file_extension": ".py",
   "mimetype": "text/x-python",
   "name": "python",
   "nbconvert_exporter": "python",
   "pygments_lexer": "ipython3",
   "version": "3.9.9"
  }
 },
 "nbformat": 4,
 "nbformat_minor": 5
}
