{
 "cells": [
  {
   "cell_type": "code",
   "execution_count": null,
   "id": "276d9aeb",
   "metadata": {},
   "outputs": [],
   "source": [
    "import geopandas as gpd\n",
    "import requests\n",
    "import pickle\n",
    "from vt2geojson.tools import vt_bytes_to_geojson\n",
    "import matplotlib.pyplot as plt\n",
    "\n",
    "from exp_utils import wgp_functions\n",
    "\n",
    "plt.style.use('dark_background')"
   ]
  },
  {
   "cell_type": "code",
   "execution_count": null,
   "id": "03107ded",
   "metadata": {},
   "outputs": [],
   "source": [
    "def agora_tile_to_dict(wind_dist,z,x,y):\n",
    "    \"\"\"\n",
    "    Function that scrapes the agroa-windflächenrechner tileserver for one vectortile.\n",
    "    \n",
    "    Prameters\n",
    "    ----------\n",
    "    wind_dist = str, can be '400', '600', '800', '1000'\n",
    "        Distance to settlement setting\n",
    "    x,y,z = str\n",
    "        Parameters of vectortile where:\n",
    "        x = horizontal extent, y = vertical extent, z = zoom-level \n",
    "        \n",
    "    Returns\n",
    "    -------\n",
    "    dict \n",
    "        Dictinary entry with x and y parameter plus the GeoJSON information on the vectortile-\n",
    "    \"\"\"\n",
    "    \n",
    "    url = \"https://wfr.agora-energiewende.de/potential_area_mvt/{}/{}/{}/?setup__wind_distance={}\".format(z,x,y,wind_dist)\n",
    "    \n",
    "    print(f'Downloading tile {x} / {y}')\n",
    "    r = requests.get(url)\n",
    "    \n",
    "    try:\n",
    "        assert r.status_code == 200, r.content\n",
    "        \n",
    "    except AssertionError:\n",
    "        print(f'    Tile {x} / {y} not available')\n",
    "    \n",
    "    vt_content = r.content\n",
    "    \n",
    "    # Transformation of binary vectortiles into text-based GeoJson\n",
    "    features = vt_bytes_to_geojson(vt_content, x, y, z)\n",
    "    \n",
    "    return {\"x\": x, \"y\": y, 'features': features}\n",
    "\n",
    "\n",
    "def store_dict(file, dictionary):\n",
    "    \"\"\"\n",
    "    Pickle dump a dictionary\n",
    "    \"\"\"\n",
    "    with open(file, 'wb') as f:\n",
    "        pickle.dump(dictionary, f)\n",
    "\n",
    "        \n",
    "def open_dict(file):\n",
    "    \"\"\"\n",
    "    Opens pickle dump\n",
    "    \"\"\"\n",
    "    with open(file, 'rb') as f:\n",
    "        dta_import = pickle.load(f)\n",
    "    return dta_import"
   ]
  },
  {
   "cell_type": "markdown",
   "id": "656cfe27",
   "metadata": {},
   "source": [
    "## Vectortile scraping: \n",
    "\n",
    "Information on the x and y extent under different zoom levels z can be best found here: \n",
    "https://developers.google.com/maps/documentation/javascript/examples/maptype-overlay</br>\n",
    "</br>\n",
    "The vectortiles are scraped for two zoom levels: 5 and 11. The precision of the polygons changes with the zoom level. \n",
    "Zoom level 5 (coarse) is optimal for quick plotting, zoom level 11 (fine) requests the data on the highest resolution, optimal for calculations.</br>\n",
    "</br>\n",
    "Zoom level 5: [xmin: 16, xmax: 17, ymin: 10, ymax: 11] </br>\n",
    "Zoom level 11: [xmin: 1057, xmax: 1109, ymin: 648, ymax: 718]</br>\n",
    "\n",
    " "
   ]
  },
  {
   "cell_type": "code",
   "execution_count": null,
   "id": "afe7ca88",
   "metadata": {},
   "outputs": [],
   "source": [
    "# Zoom level 5 \n",
    "x = [16, 17]\n",
    "y= [10, 11]\n",
    "\n",
    "data1000_z5 = {\"potential_area\": [wgp_functions.agora_tile_to_dict(wind_dist=1000, z=5, x=a, y=b) for a in x for b in y]}\n",
    "\n",
    "#wgp_functions.store_dict('data1000_z5.pckl', data1000_z5)"
   ]
  },
  {
   "cell_type": "code",
   "execution_count": null,
   "id": "8d8d3099",
   "metadata": {},
   "outputs": [],
   "source": [
    "# Zoom level 11\n",
    "\n",
    "x = range(1057,1109)\n",
    "y = range(648,718)\n",
    "\n",
    "data1000_z11 = {\"potential_area\": [wgp_functions.agora_tile_to_dict(wind_dist=1000, z=11, x=a, y=b) for a in x for b in y]}\n",
    "\n",
    "#wgp_functions.store_dict('data1000_z11.pckl', data1000_z11)"
   ]
  },
  {
   "cell_type": "markdown",
   "id": "cd712834",
   "metadata": {},
   "source": [
    "### Tile GeoJSON dcit to gpd.DataFrame:"
   ]
  },
  {
   "cell_type": "code",
   "execution_count": null,
   "id": "ac4efb10",
   "metadata": {},
   "outputs": [],
   "source": [
    "potential_area_1000_z5 = gpd.GeoDataFrame()\n",
    "\n",
    "tile_count = len(data1000_z5['potential_area'])\n",
    "\n",
    "potential_area_1000_z5 = potential_area_1000_z5.append([gpd.GeoDataFrame.from_features(data1000_z5['potential_area'][i]['features']) for i in range(0,tile_count)])\n",
    "\n",
    "print('Tilecount zoom level 5: ',len(potential_area_1000_z5))\n",
    "potential_area_1000_z5.head()"
   ]
  },
  {
   "cell_type": "markdown",
   "id": "69022f89",
   "metadata": {},
   "source": [
    "### Plot the scraped data"
   ]
  },
  {
   "cell_type": "code",
   "execution_count": null,
   "id": "ba891739",
   "metadata": {},
   "outputs": [],
   "source": [
    "# Adjust CRS\n",
    "potential_area_1000_z5 = potential_area_1000_z5.set_crs(4326)\n",
    "potential_area_1000_z5_3035 = potential_area_1000_z5.to_crs(3035)\n",
    "\n",
    "world = gpd.read_file(gpd.datasets.get_path('naturalearth_lowres'))\n",
    "world_3035 = world.to_crs('epsg:3035')\n",
    "germany = world_3035[world_3035['name'] == 'Germany']\n",
    "\n",
    "\n",
    "fig, ax = plt.subplots(figsize=(12,12))\n",
    "\n",
    "germany.plot(color=\"lightgrey\", ax=ax)\n",
    "potential_area_1000_z5_3035.plot(color=\"green\", ax=ax, aspect='equal')\n",
    "\n",
    "ax.set_title('Windfächenrechner: vectortile data, zoomlevel 5');\n",
    "\n",
    "ax.set_aspect('equal')\n",
    "ax.set_facecolor('white')"
   ]
  },
  {
   "cell_type": "code",
   "execution_count": null,
   "id": "4c55593b",
   "metadata": {},
   "outputs": [],
   "source": []
  }
 ],
 "metadata": {
  "kernelspec": {
   "display_name": "Python 3 (ipykernel)",
   "language": "python",
   "name": "python3"
  },
  "language_info": {
   "codemirror_mode": {
    "name": "ipython",
    "version": 3
   },
   "file_extension": ".py",
   "mimetype": "text/x-python",
   "name": "python",
   "nbconvert_exporter": "python",
   "pygments_lexer": "ipython3",
   "version": "3.9.9"
  }
 },
 "nbformat": 4,
 "nbformat_minor": 5
}
