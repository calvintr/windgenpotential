{
 "cells": [
  {
   "cell_type": "code",
   "execution_count": null,
   "id": "c7fc595d",
   "metadata": {},
   "outputs": [],
   "source": [
    "import atlite\n",
    "import xarray as xr\n",
    "import rasterio as rio\n",
    "import rioxarray as rioxr\n",
    "\n",
    "import os.path\n",
    "import pandas as pd\n",
    "from pandas.tseries.offsets import MonthEnd\n",
    "import numpy as np\n",
    "import geopandas as gpd\n",
    "import shapely\n",
    "import matplotlib.pyplot as plt\n",
    "from matplotlib.gridspec import GridSpec\n",
    "plt.style.use('dark_background')\n",
    "\n",
    "from rasterio.plot import show\n",
    "from atlite.gis import shape_availability, ExclusionContainer\n",
    "\n",
    "import cartopy.crs as ccrs\n",
    "from cartopy.crs import PlateCarree as plate\n",
    "import cartopy.io.shapereader as shpreader\n",
    "\n",
    "from osgeo import gdal\n",
    "\n",
    "from exp_utils import wgp_functions\n",
    "\n",
    "plt.rcParams['figure.figsize'] = [10, 10]"
   ]
  },
  {
   "cell_type": "code",
   "execution_count": null,
   "id": "a09ef875-072a-4df6-896d-2cbd2cde57d9",
   "metadata": {},
   "outputs": [],
   "source": [
    "# Get shape of Germany \n",
    "\n",
    "shpfilename = shpreader.natural_earth(resolution='10m',\n",
    "                                          category='cultural',\n",
    "                                          name='admin_0_countries')\n",
    "    \n",
    "reader = shpreader.Reader(shpfilename)\n",
    "\n",
    "Germany = gpd.GeoSeries({r.attributes['NAME_EN']: r.geometry\n",
    "                    for r in reader.records()},\n",
    "                    crs='epsg:4326'\n",
    "                   ).reindex(['Germany'])"
   ]
  },
  {
   "cell_type": "markdown",
   "id": "2377f5fa-5fe9-4495-aadf-e3fb4cf6037f",
   "metadata": {},
   "source": [
    "## Basic handeling of altite.Cutout and xarray-DataSets"
   ]
  },
  {
   "cell_type": "code",
   "execution_count": null,
   "id": "8156129a-ad40-4bab-8a16-c0e76bad2273",
   "metadata": {},
   "outputs": [],
   "source": [
    "# Read in cutout(s) \n",
    "\n",
    "src = []\n",
    "root = 'C:/CaT/Masterthesis/repository/data/era5/Germany/'\n",
    "\n",
    "for i in pd.date_range('2019-01-01' , '2021-12-31', freq = 'M').strftime('%Y-%m'): \n",
    "    \n",
    "    src.append(f'{root}{i}.nc')            \n",
    "               \n",
    "cutout = wgp_functions.merge_cutouts(src)\n",
    "\n",
    "cutout"
   ]
  },
  {
   "cell_type": "code",
   "execution_count": null,
   "id": "84e2ca97-fe52-4a55-be43-b0d203c19330",
   "metadata": {},
   "outputs": [],
   "source": [
    "cutout.data"
   ]
  },
  {
   "cell_type": "code",
   "execution_count": null,
   "id": "14ec3f15-2782-4e2d-8000-70f385b49f00",
   "metadata": {},
   "outputs": [],
   "source": [
    "# Restrict time dimension to one frame\n",
    "\n",
    "fig, ax = plt.subplots()\n",
    "cutout.data['wnd100m'].isel(time = 0).plot(ax=ax)\n",
    "Germany.plot(ax=ax, facecolor = 'None', edgecolor = 'k', lw=1)\n",
    "ax.set_title('Wind100m @ '+str(cutout.data.time.values[0])[0:16])\n",
    "plt.show()"
   ]
  },
  {
   "cell_type": "code",
   "execution_count": null,
   "id": "7c3672df-a3d2-4bea-9f19-7ca99e35e94d",
   "metadata": {},
   "outputs": [],
   "source": [
    "# Mean Through Time\n",
    "\n",
    "fig, ax = plt.subplots()\n",
    "cutout.data['wnd100m'].mean(['time']).plot(ax=ax)\n",
    "Germany.plot(ax=ax, facecolor = 'None', edgecolor = 'k', lw=1)\n",
    "ax.set_title(f'Wind100m Mean {str(cutout.data.time.values[0])[0:10]} to {str(cutout.data.time.values[-1])[0:10]}')\n",
    "plt.show()"
   ]
  },
  {
   "cell_type": "code",
   "execution_count": null,
   "id": "0536ceea-1391-4c59-9128-1dc9ea021ab3",
   "metadata": {},
   "outputs": [],
   "source": [
    "# Mean Through Time\n",
    "\n",
    "fig, ax = plt.subplots(figsize=(16,8))\n",
    "cutout.data['wnd100m'].mean(['x', 'y']).rolling(time=24*7).mean().plot(ax=ax)\n",
    "ax.set_title(f'Wind100m Weekly-Mean for Germany{str(cutout.data.time.values[0])[0:10]} to {str(cutout.data.time.values[-1])[0:10]}')\n",
    "plt.show()"
   ]
  },
  {
   "cell_type": "code",
   "execution_count": null,
   "id": "75dca6cc",
   "metadata": {},
   "outputs": [],
   "source": [
    "#Time slice via sel \n",
    "cutout.data.sel(time=slice('2020-01-02', '2020-01-03'))"
   ]
  },
  {
   "cell_type": "code",
   "execution_count": null,
   "id": "efb94610",
   "metadata": {},
   "outputs": [],
   "source": [
    "#Integer slice via isel\n",
    "cutout.data.isel(x=slice(10, 20))"
   ]
  },
  {
   "cell_type": "markdown",
   "id": "435ab77e-af5c-4c1e-9286-b4aa1a3bfb4d",
   "metadata": {},
   "source": [
    "## Datasets with different resolutions: ERA5 & GWA"
   ]
  },
  {
   "cell_type": "code",
   "execution_count": null,
   "id": "a6d8a1e0",
   "metadata": {},
   "outputs": [],
   "source": [
    "# Import GWA Data for Germany\n",
    "gwa = rioxr.open_rasterio('C:/CaT/Masterthesis/repository/data/gwa/DEU_wind-speed_100m.tif')\n",
    "\n",
    "gwa = gwa.rename({'x' : 'lon', 'y' : 'lat'})\n",
    "\n",
    "# Move the spatial_ref to attributes\n",
    "gwa.attrs['spatial_ref'] = gwa['spatial_ref'].attrs\n",
    "gwa = gwa.drop(['spatial_ref'])\n",
    "\n",
    "# Drop the flat band dimension \n",
    "gwa = gwa.squeeze('band')\n",
    "gwa = gwa.reset_coords('band', drop=True)\n",
    " \n",
    "# Interpolate -> downscale GWA grid to ERA5 resolution\n",
    "gwa_interpol = gwa.interp(lat=cutout.data.lat, lon=cutout.data.lon, method = 'linear')"
   ]
  },
  {
   "cell_type": "code",
   "execution_count": null,
   "id": "31f30bd0-e2d2-424a-8027-132b9883cac9",
   "metadata": {},
   "outputs": [],
   "source": [
    "cutout_interpol = cutout.data.swap_dims({'y' : 'lat', 'x' : 'lon'})\n",
    "\n",
    "#Interpolate -> Upscale ERA5 grid to GWA resolution. Take mean beforehand so ds is flat. for 2 months the resulting ds is too big\n",
    "cutout_interpol = cutout_interpol.mean(['time']).interp(lat=gwa.lat, lon=gwa.lon, method = 'linear')"
   ]
  },
  {
   "cell_type": "code",
   "execution_count": null,
   "id": "c81d5f11",
   "metadata": {},
   "outputs": [],
   "source": [
    "fig = plt.figure(figsize=(12,12), dpi = 100)\n",
    "\n",
    "gs = fig.add_gridspec(50, 3, width_ratios=[0.475, 0.475, 0.05])\n",
    "ax = []\n",
    "ax.append(fig.add_subplot(gs[0:22, 0]))\n",
    "ax.append(fig.add_subplot(gs[0:22, 1]))\n",
    "ax.append(fig.add_subplot(gs[27:49, 0]))\n",
    "ax.append(fig.add_subplot(gs[27:49, 1]))\n",
    "ax.append(fig.add_subplot(gs[11:39, 2]))\n",
    "\n",
    "fig.suptitle(\"Wind Data, scaled and transformed\", size=16)\n",
    "\n",
    "cutout.data['wnd100m'].mean('time').plot(ax = ax[0], vmin = gwa.min(), vmax = gwa.max(), add_colorbar=False)\n",
    "Germany.plot(ax=ax[0], facecolor = 'None', edgecolor = 'k', lw=1)\n",
    "ax[0].set_title(f'ERA5 Original Data {str(cutout.data.time.values[0])[0:10]} to {str(cutout.data.time.values[-1])[0:10]}')\n",
    "ax[0].set_ylabel(\"lat\")\n",
    "ax[0].set_xlabel(\"lon\")\n",
    "\n",
    "gwa.plot(ax=ax[1], vmin = gwa.min(), vmax = gwa.max(), add_colorbar=False)\n",
    "Germany.plot(ax=ax[1], facecolor = 'None', edgecolor = 'k', lw=1)\n",
    "ax[1].set_ylim(cutout.data.lat.min(), cutout.data.lat.max())\n",
    "ax[1].set_xlim(cutout.data.lon.min(), cutout.data.lon.max())\n",
    "ax[1].set_title('GWA [Original Data]')\n",
    "\n",
    "cutout_interpol['wnd100m'].plot(ax=ax[2], vmin = gwa.min(), vmax = gwa.max(), add_colorbar=False)\n",
    "Germany.plot(ax=ax[2], facecolor = 'None', edgecolor = 'k', lw=1)\n",
    "ax[2].set_title('ERA5 [Upscaled to GWA Grid]')\n",
    "ax[2].set_ylim(cutout.data.lat.min(), cutout.data.lat.max())\n",
    "ax[2].set_xlim(cutout.data.lon.min(), cutout.data.lon.max())\n",
    "\n",
    "gwa_interpol.plot(ax=ax[3], vmin = gwa.min(), vmax = gwa.max(), add_colorbar=False)\n",
    "Germany.plot(ax=ax[3], facecolor = 'None', edgecolor = 'k', lw=1)\n",
    "ax[3].set_title('GWA [Downscaled to ERA5 Grid]')\n",
    "ax[3].set_ylabel(\"lat\")\n",
    "ax[3].set_xlabel(\"lon\")\n",
    "\n",
    "# Colorbar\n",
    "norm = plt.Normalize(gwa.min(), gwa.max())\n",
    "sm = plt.cm.ScalarMappable(cmap='viridis', norm=norm)\n",
    "sm.set_array([])\n",
    "plt.colorbar(sm, cax=ax[4], orientation='vertical')\n",
    "ax[4].get_yaxis().labelpad = 10\n",
    "ax[4].set_ylabel('meters/second', rotation = 270, fontsize = 10)\n",
    "\n",
    "fig.subplots_adjust(top=0.925)\n",
    "\n",
    "plt.savefig('C:/CaT/Masterthesis/repository/presentations/scaling.png', bbox_inches='tight', dpi = 100)\n",
    "\n",
    "plt.show()"
   ]
  },
  {
   "cell_type": "code",
   "execution_count": null,
   "id": "32937f53",
   "metadata": {},
   "outputs": [],
   "source": [
    "fig, ax = plt.subplots(1, 2, figsize = (16,8), dpi = 100)\n",
    "\n",
    "#mi, ma = (cutout_xr_wind_interpol/gwa).min().values, (cutout_xr_wind_interpol/gwa).max().values\n",
    "\n",
    "from  matplotlib.colors import LinearSegmentedColormap\n",
    "cmap=LinearSegmentedColormap.from_list('rg',[\"r\", \"w\", \"g\"], N=256) \n",
    "\n",
    "fig.suptitle(f'ERA5 Wind100m Mean {str(cutout.data.time.values[0])[0:10]} to {str(cutout.data.time.values[-1])[0:10]} / GWA Ratio Example', size=16)         \n",
    "             \n",
    "(cutout.data['wnd100m'].mean('time')/gwa_interpol).plot(ax=ax[0], vmin = 0, vmax = 2, cmap = cmap)\n",
    "Germany.plot(ax=ax[0], facecolor = 'None', edgecolor = 'k', lw=1)\n",
    "ax[0].set_ylim(cutout.data.y.min(), cutout.data.y.max())\n",
    "ax[0].set_xlim(cutout.data.x.min(), cutout.data.x.max())\n",
    "ax[0].set_title('Ratio(ERA5 / GWA [Downscaled])')\n",
    "ax[0].set_ylabel(\"lat\")\n",
    "ax[0].set_xlabel(\"lon\")\n",
    "\n",
    "(cutout_interpol['wnd100m']/gwa).plot(ax=ax[1], vmin = 0, vmax = 2, cmap = cmap)\n",
    "Germany.plot(ax=ax[1], facecolor = 'None', edgecolor = 'k', lw=1)\n",
    "ax[1].set_title('Ratio(ERA5 [Upscaled] / GWA)')\n",
    "ax[1].set_ylim(cutout.data.y.min(), cutout.data.y.max())\n",
    "ax[1].set_xlim(cutout.data.x.min(), cutout.data.x.max())\n",
    "ax[1].set_ylabel(\"lat\")\n",
    "ax[1].set_xlabel(\"lon\")\n",
    "\n",
    "plt.savefig('C:/CaT/Masterthesis/repository/presentations/ratio.png', bbox_inches='tight', dpi = 100)\n",
    "\n",
    "plt.show()"
   ]
  },
  {
   "cell_type": "code",
   "execution_count": null,
   "id": "b19697b2",
   "metadata": {},
   "outputs": [],
   "source": [
    "print('cutout / gwa downscaled: ' ,'\\n',\n",
    "      'mean: ',(cutout.data['wnd100m'].mean('time')/gwa_interpol).mean(skipna=True).values,'\\n',\n",
    "      'std: ',(cutout.data['wnd100m'].mean('time')/gwa_interpol).std(skipna=True).values,'\\n',\n",
    "      'min: ',(cutout.data['wnd100m'].mean('time')/gwa_interpol).min(skipna=True).values,'\\n',\n",
    "      'q10: ',(cutout.data['wnd100m'].mean('time')/gwa_interpol).quantile(q=0.1, skipna=True).values,'\\n',\n",
    "      'q50: ',(cutout.data['wnd100m'].mean('time')/gwa_interpol).quantile(q=0.5, skipna=True).values,'\\n',\n",
    "      'q90: ',(cutout.data['wnd100m'].mean('time')/gwa_interpol).quantile(q=0.9, skipna=True).values,'\\n',\n",
    "      'max: ', (cutout.data['wnd100m'].mean('time')/gwa_interpol).max(skipna=True).values\n",
    "     )"
   ]
  },
  {
   "cell_type": "code",
   "execution_count": null,
   "id": "5c174928-49d5-4eb2-8f3c-69aecdf73af2",
   "metadata": {},
   "outputs": [],
   "source": [
    "(cutout.data['wnd100m'].mean('time')/gwa_interpol).quantile(q=0.5, skipna=True).values"
   ]
  },
  {
   "cell_type": "code",
   "execution_count": null,
   "id": "ca13a1d2",
   "metadata": {},
   "outputs": [],
   "source": [
    "print('cutout upscaled / gwa: ' ,'\\n',\n",
    "      'mean: ',(cutout_interpol['wnd100m']/gwa).mean(skipna=True).values,'\\n',\n",
    "      'std: ',(cutout_interpol['wnd100m']/gwa).std(skipna=True).values,'\\n',\n",
    "      'min: ',(cutout_interpol['wnd100m']/gwa).min(skipna=True).values,'\\n',\n",
    "      'q10: ',(cutout_interpol['wnd100m']/gwa).quantile(q=0.1, skipna=True).values,'\\n',\n",
    "      'q50: ',(cutout_interpol['wnd100m']/gwa).quantile(q=0.5, skipna=True).values,'\\n',\n",
    "      'q90: ',(cutout_interpol['wnd100m']/gwa).quantile(q=0.9, skipna=True).values,'\\n',\n",
    "      'max: ', (cutout_interpol['wnd100m']/gwa).max(skipna=True).values\n",
    "     )\n"
   ]
  },
  {
   "cell_type": "markdown",
   "id": "46aac276-a4ff-42cb-988c-b9c9fe6343cc",
   "metadata": {
    "tags": []
   },
   "source": [
    "\n",
    "\n",
    "## Build correction factor vgl. Ryberg et al 2018\n",
    "\n",
    "# ${v(t)} = {v}_{MERRA}{(t)} * \\frac{{v}_{GWA, 50m}}{{v}_{MERRA, avg}}$"
   ]
  },
  {
   "cell_type": "code",
   "execution_count": null,
   "id": "abad7e60-36ce-4c3f-97eb-7f27b1f592f1",
   "metadata": {},
   "outputs": [],
   "source": [
    "cutout_corrected = cutout.data['wnd100m'] * (gwa_interpol / cutout.data['wnd100m'].mean('time'))"
   ]
  },
  {
   "cell_type": "code",
   "execution_count": null,
   "id": "1740b0ef-4c66-4b2e-8915-2eb4971f2540",
   "metadata": {},
   "outputs": [],
   "source": [
    "(gwa_interpol / cutout.data['wnd100m'].mean('time')).mean().values"
   ]
  },
  {
   "cell_type": "code",
   "execution_count": null,
   "id": "792142d1-8d69-441d-8cc7-7bd3616cf3df",
   "metadata": {},
   "outputs": [],
   "source": [
    "fig, ax = plt.subplots(1, 2, figsize = (16,8), dpi = 100)\n",
    "\n",
    "#mi, ma = (cutout_xr_wind_interpol/gwa).min().values, (cutout_xr_wind_interpol/gwa).max().values\n",
    "\n",
    "fig.suptitle(\"ERA5 Wind100m 2020-01-01 00:00, Long-Run Mean Corrected with GWA\", size=16)         \n",
    "                 \n",
    "\n",
    "cutout.data['wnd100m'].isel(time = 0).plot(ax=ax[0], vmin = 0, vmax = 12)\n",
    "Germany.plot(ax=ax[0], facecolor = 'None', edgecolor = 'k', lw=1)\n",
    "ax[0].set_title('Raw')\n",
    "ax[0].set_ylim(cutout.data.y.min(), cutout.data.y.max())\n",
    "ax[0].set_xlim(cutout.data.x.min(), cutout.data.x.max())\n",
    "ax[0].set_ylabel(\"lat\")\n",
    "ax[0].set_xlabel(\"lon\")\n",
    "      \n",
    "    \n",
    "cutout_corrected.isel(time = 0).plot(ax=ax[1], vmin = 0, vmax = 12)\n",
    "Germany.plot(ax=ax[1], facecolor = 'None', edgecolor = 'k', lw=1)\n",
    "ax[1].set_ylim(cutout.data.y.min(), cutout.data.y.max())\n",
    "ax[1].set_xlim(cutout.data.x.min(), cutout.data.x.max())\n",
    "ax[1].set_title('Corrected')\n",
    "ax[1].set_ylabel(\"lat\")\n",
    "ax[1].set_xlabel(\"lon\")\n",
    "\n",
    "\n",
    "plt.savefig('C:/CaT/Masterthesis/repository/presentations/correctedhour.png', bbox_inches='tight', dpi = 100)\n",
    "\n",
    "plt.show()"
   ]
  },
  {
   "cell_type": "code",
   "execution_count": null,
   "id": "51d13612-223d-4614-baca-01c5623f7314",
   "metadata": {},
   "outputs": [],
   "source": [
    "fig, ax = plt.subplots(1, 2, figsize = (16,8), dpi = 100)\n",
    "\n",
    "#mi, ma = (cutout_xr_wind_interpol/gwa).min().values, (cutout_xr_wind_interpol/gwa).max().values\n",
    "\n",
    "fig.suptitle(f'ERA5 Wind100m {str(cutout.data.time.values[0])[0:10]} to {str(cutout.data.time.values[-1])[0:10]}, Long-Run Mean Corrected with GWA' , size=16)                         \n",
    "\n",
    "cutout.data['wnd100m'].mean('time').plot(ax=ax[0], vmin = 0, vmax = 12)\n",
    "Germany.plot(ax=ax[0], facecolor = 'None', edgecolor = 'k', lw=1)\n",
    "ax[0].set_title('Raw')\n",
    "ax[0].set_ylim(cutout.data.y.min(), cutout.data.y.max())\n",
    "ax[0].set_xlim(cutout.data.x.min(), cutout.data.x.max())\n",
    "ax[0].set_ylabel(\"lat\")\n",
    "ax[0].set_xlabel(\"lon\")\n",
    "      \n",
    "    \n",
    "cutout_corrected.mean('time').plot(ax=ax[1], vmin = 0, vmax = 12)\n",
    "Germany.plot(ax=ax[1], facecolor = 'None', edgecolor = 'k', lw=1)\n",
    "ax[1].set_ylim(cutout.data.y.min(), cutout.data.y.max())\n",
    "ax[1].set_xlim(cutout.data.x.min(), cutout.data.x.max())\n",
    "ax[1].set_title('Corrected')\n",
    "ax[1].set_ylabel(\"lat\")\n",
    "ax[1].set_xlabel(\"lon\")\n",
    "\n",
    "\n",
    "plt.savefig('C:/CaT/Masterthesis/repository/presentations/correctedmonths.png', bbox_inches='tight', dpi = 100)\n",
    "\n",
    "plt.show()"
   ]
  },
  {
   "cell_type": "code",
   "execution_count": null,
   "id": "6b5da47c-cc82-432a-9384-63898168e106",
   "metadata": {},
   "outputs": [],
   "source": [
    "cutout.data"
   ]
  }
 ],
 "metadata": {
  "kernelspec": {
   "display_name": "Python 3 (ipykernel)",
   "language": "python",
   "name": "python3"
  },
  "language_info": {
   "codemirror_mode": {
    "name": "ipython",
    "version": 3
   },
   "file_extension": ".py",
   "mimetype": "text/x-python",
   "name": "python",
   "nbconvert_exporter": "python",
   "pygments_lexer": "ipython3",
   "version": "3.9.9"
  },
  "toc-showmarkdowntxt": false
 },
 "nbformat": 4,
 "nbformat_minor": 5
}
